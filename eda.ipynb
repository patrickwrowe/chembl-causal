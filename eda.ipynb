{
 "cells": [
  {
   "cell_type": "code",
   "execution_count": 1,
   "id": "7b5dd044",
   "metadata": {},
   "outputs": [],
   "source": [
    "import pandas as pd\n",
    "import numpy as np\n",
    "import sqlite3"
   ]
  },
  {
   "cell_type": "code",
   "execution_count": 2,
   "id": "ae2cd89f",
   "metadata": {},
   "outputs": [],
   "source": [
    "CHEMBLDB_PATH = \"/Users/patrickrowe/Documents/Code/data/chembl/chembl_35/chembl_35_sqlite/chembl_35.db\""
   ]
  },
  {
   "cell_type": "code",
   "execution_count": 3,
   "id": "b56fae21",
   "metadata": {},
   "outputs": [],
   "source": [
    "con = sqlite3.connect(CHEMBLDB_PATH)\n",
    "cur = con.cursor()"
   ]
  },
  {
   "cell_type": "code",
   "execution_count": 4,
   "id": "fad52025",
   "metadata": {},
   "outputs": [
    {
     "data": {
      "text/plain": [
       "<sqlite3.Cursor at 0x12b0a3440>"
      ]
     },
     "execution_count": 4,
     "metadata": {},
     "output_type": "execute_result"
    }
   ],
   "source": [
    "cur.execute(\"\"\"\n",
    "    SELECT * FROM ASSAY_TYPE \n",
    "\"\"\")"
   ]
  },
  {
   "cell_type": "code",
   "execution_count": 5,
   "id": "1843fc00",
   "metadata": {},
   "outputs": [],
   "source": [
    "result = cur.fetchall()\n",
    "headers = [d[0] for d in cur.description]"
   ]
  },
  {
   "cell_type": "code",
   "execution_count": 177,
   "id": "f143c962",
   "metadata": {},
   "outputs": [
    {
     "name": "stdout",
     "output_type": "stream",
     "text": [
      "['assay_type', 'assay_desc']\n",
      "{('T', 'Toxicity'), ('F', 'Functional'), ('A', 'ADME'), ('U', 'Unassigned'), ('B', 'Binding'), ('P', 'Physicochemical')}\n"
     ]
    }
   ],
   "source": [
    "print(headers)\n",
    "print(set(result))"
   ]
  },
  {
   "cell_type": "code",
   "execution_count": 430,
   "id": "f9651366",
   "metadata": {},
   "outputs": [],
   "source": [
    "SQL_1 = \"\"\"SELECT * FROM ASSAYS WHERE ASSAY_TYPE IS 'P'\"\"\"\n",
    "SQL_2 = \"\"\"\n",
    "    SELECT * FROM assays AS assays\n",
    "    INNER JOIN assay_parameters AS ap \n",
    "    ON ap.assay_id = assays.assay_id \n",
    "    INNER JOIN assay_type AS at\n",
    "    ON assays.assay_type = at.assay_type\n",
    "    INNER JOIN assay_class_map AS acm\n",
    "    ON assays.assay_id = acm.assay_id\n",
    "    INNER JOIN assay_classification AS ac\n",
    "    ON acm.assay_class_id = ac.assay_class_id\n",
    "\"\"\"\n",
    "\n",
    "SQL_3 = \"\"\"\n",
    "    SELECT * FROM assays AS assays\n",
    "    INNER JOIN assay_type AS at\n",
    "    ON assays.assay_type = at.assay_type\n",
    "    INNER JOIN assay_class_map as acm\n",
    "    ON assays.assay_id = acm.assay_id\n",
    "\"\"\"\n"
   ]
  },
  {
   "cell_type": "code",
   "execution_count": 423,
   "id": "b104d234",
   "metadata": {},
   "outputs": [
    {
     "data": {
      "text/plain": [
       "<sqlite3.Cursor at 0x12588a1c0>"
      ]
     },
     "execution_count": 423,
     "metadata": {},
     "output_type": "execute_result"
    }
   ],
   "source": [
    "cur.execute(\n",
    "    SQL_3\n",
    ")"
   ]
  },
  {
   "cell_type": "code",
   "execution_count": 424,
   "id": "d6f62abc",
   "metadata": {},
   "outputs": [],
   "source": [
    "description = cur.description"
   ]
  },
  {
   "cell_type": "code",
   "execution_count": 425,
   "id": "872ef682",
   "metadata": {},
   "outputs": [
    {
     "name": "stdout",
     "output_type": "stream",
     "text": [
      "(('assay_id', None, None, None, None, None, None), ('doc_id', None, None, None, None, None, None), ('description', None, None, None, None, None, None), ('assay_type', None, None, None, None, None, None), ('assay_test_type', None, None, None, None, None, None), ('assay_category', None, None, None, None, None, None), ('assay_organism', None, None, None, None, None, None), ('assay_tax_id', None, None, None, None, None, None), ('assay_strain', None, None, None, None, None, None), ('assay_tissue', None, None, None, None, None, None), ('assay_cell_type', None, None, None, None, None, None), ('assay_subcellular_fraction', None, None, None, None, None, None), ('tid', None, None, None, None, None, None), ('relationship_type', None, None, None, None, None, None), ('confidence_score', None, None, None, None, None, None), ('curated_by', None, None, None, None, None, None), ('src_id', None, None, None, None, None, None), ('src_assay_id', None, None, None, None, None, None), ('chembl_id', None, None, None, None, None, None), ('cell_id', None, None, None, None, None, None), ('bao_format', None, None, None, None, None, None), ('tissue_id', None, None, None, None, None, None), ('variant_id', None, None, None, None, None, None), ('aidx', None, None, None, None, None, None), ('assay_group', None, None, None, None, None, None), ('assay_type', None, None, None, None, None, None), ('assay_desc', None, None, None, None, None, None), ('ass_cls_map_id', None, None, None, None, None, None), ('assay_id', None, None, None, None, None, None), ('assay_class_id', None, None, None, None, None, None))\n"
     ]
    }
   ],
   "source": [
    "print(description)"
   ]
  },
  {
   "cell_type": "code",
   "execution_count": 426,
   "id": "e535f65e",
   "metadata": {},
   "outputs": [],
   "source": [
    "result = cur.fetchone()"
   ]
  },
  {
   "cell_type": "code",
   "execution_count": 427,
   "id": "acd222ec",
   "metadata": {},
   "outputs": [
    {
     "name": "stdout",
     "output_type": "stream",
     "text": [
      "(585237, 48160, 'Anticonvulsant activity against isoniazid-induced seizures in Kunming mouse assessed as clonic seizures of at 50 mg/kg, ip after 0.5 hrs', 'F', None, None, 'Mus musculus', 10090, 'Kunming', None, None, None, 50594, 'N', 1, 'Autocuration', 1, None, 'CHEMBL1061852', None, 'BAO_0000218', None, None, 'CLD0', None, 'F', 'Functional', 2526021, 585237, 344)\n"
     ]
    }
   ],
   "source": [
    "print(result)"
   ]
  },
  {
   "cell_type": "code",
   "execution_count": 428,
   "id": "9f505d9e",
   "metadata": {},
   "outputs": [],
   "source": [
    "headers = [d[0] for d in description]\n",
    "labelled_result = [(header, value) for header, value in zip(headers, result)]"
   ]
  },
  {
   "cell_type": "code",
   "execution_count": 429,
   "id": "10dedf5f",
   "metadata": {},
   "outputs": [
    {
     "name": "stdout",
     "output_type": "stream",
     "text": [
      "('assay_id', 585237)\n",
      "('doc_id', 48160)\n",
      "('description', 'Anticonvulsant activity against isoniazid-induced seizures in Kunming mouse assessed as clonic seizures of at 50 mg/kg, ip after 0.5 hrs')\n",
      "('assay_type', 'F')\n",
      "('assay_test_type', None)\n",
      "('assay_category', None)\n",
      "('assay_organism', 'Mus musculus')\n",
      "('assay_tax_id', 10090)\n",
      "('assay_strain', 'Kunming')\n",
      "('assay_tissue', None)\n",
      "('assay_cell_type', None)\n",
      "('assay_subcellular_fraction', None)\n",
      "('tid', 50594)\n",
      "('relationship_type', 'N')\n",
      "('confidence_score', 1)\n",
      "('curated_by', 'Autocuration')\n",
      "('src_id', 1)\n",
      "('src_assay_id', None)\n",
      "('chembl_id', 'CHEMBL1061852')\n",
      "('cell_id', None)\n",
      "('bao_format', 'BAO_0000218')\n",
      "('tissue_id', None)\n",
      "('variant_id', None)\n",
      "('aidx', 'CLD0')\n",
      "('assay_group', None)\n",
      "('assay_type', 'F')\n",
      "('assay_desc', 'Functional')\n",
      "('ass_cls_map_id', 2526021)\n",
      "('assay_id', 585237)\n",
      "('assay_class_id', 344)\n"
     ]
    }
   ],
   "source": [
    "for res in labelled_result:\n",
    "    print(res)"
   ]
  },
  {
   "cell_type": "code",
   "execution_count": null,
   "id": "49f3248d",
   "metadata": {},
   "outputs": [],
   "source": [
    "print(res)"
   ]
  },
  {
   "cell_type": "code",
   "execution_count": null,
   "id": "cfcb5bde",
   "metadata": {},
   "outputs": [],
   "source": []
  }
 ],
 "metadata": {
  "kernelspec": {
   "display_name": "main",
   "language": "python",
   "name": "python3"
  },
  "language_info": {
   "codemirror_mode": {
    "name": "ipython",
    "version": 3
   },
   "file_extension": ".py",
   "mimetype": "text/x-python",
   "name": "python",
   "nbconvert_exporter": "python",
   "pygments_lexer": "ipython3",
   "version": "3.12.3"
  }
 },
 "nbformat": 4,
 "nbformat_minor": 5
}
